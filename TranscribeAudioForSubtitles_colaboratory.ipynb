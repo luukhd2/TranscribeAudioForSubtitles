{
  "cells": [
    {
      "cell_type": "code",
      "execution_count": null,
      "metadata": {
        "colab": {
          "base_uri": "https://localhost:8080/"
        },
        "id": "AscG_f9WUljC",
        "outputId": "15f2f0f9-ca04-438e-dd44-d340cf6a6a9d"
      },
      "outputs": [
        {
          "output_type": "stream",
          "name": "stdout",
          "text": [
            "fatal: destination path 'TranscribeAudioForSubtitles' already exists and is not an empty directory.\n",
            "/content/TranscribeAudioForSubtitles\n"
          ]
        }
      ],
      "source": [
        "# get the code\n",
        "!git clone https://github.com/luukhd2/TranscribeAudioForSubtitles/\n",
        "# cd into the downloaded git directory\n",
        "%cd /content/TranscribeAudioForSubtitles"
      ]
    },
    {
      "cell_type": "code",
      "execution_count": null,
      "metadata": {
        "colab": {
          "base_uri": "https://localhost:8080/"
        },
        "collapsed": true,
        "id": "q1BToV_WU8lc",
        "outputId": "7d966ef5-ebe6-44f3-94dc-a5662077cd8e"
      },
      "outputs": [
        {
          "output_type": "stream",
          "name": "stdout",
          "text": [
            "Looking in indexes: https://pypi.org/simple, https://us-python.pkg.dev/colab-wheels/public/simple/\n",
            "Collecting huggingsound==0.1.5\n",
            "  Downloading huggingsound-0.1.5-py3-none-any.whl (28 kB)\n",
            "Requirement already satisfied: torch<2.0.0,>=1.9.0 in /usr/local/lib/python3.7/dist-packages (from huggingsound==0.1.5) (1.12.1+cu113)\n",
            "Collecting numba<0.54.0,>=0.53.1\n",
            "  Downloading numba-0.53.1-cp37-cp37m-manylinux2014_x86_64.whl (3.4 MB)\n",
            "\u001b[K     |████████████████████████████████| 3.4 MB 13.4 MB/s \n",
            "\u001b[?25hRequirement already satisfied: librosa<0.9.0,>=0.8.1 in /usr/local/lib/python3.7/dist-packages (from huggingsound==0.1.5) (0.8.1)\n",
            "Collecting llvmlite<0.37.0,>=0.36.0\n",
            "  Downloading llvmlite-0.36.0-cp37-cp37m-manylinux2010_x86_64.whl (25.3 MB)\n",
            "\u001b[K     |████████████████████████████████| 25.3 MB 92.9 MB/s \n",
            "\u001b[?25hCollecting jiwer<3.0.0,>=2.3.0\n",
            "  Downloading jiwer-2.5.1-py3-none-any.whl (15 kB)\n",
            "Collecting transformers<5.0.0,>=4.16.2\n",
            "  Downloading transformers-4.23.1-py3-none-any.whl (5.3 MB)\n",
            "\u001b[K     |████████████████████████████████| 5.3 MB 51.5 MB/s \n",
            "\u001b[?25hCollecting datasets<2.0.0,>=1.18.3\n",
            "  Downloading datasets-1.18.4-py3-none-any.whl (312 kB)\n",
            "\u001b[K     |████████████████████████████████| 312 kB 68.3 MB/s \n",
            "\u001b[?25hRequirement already satisfied: pandas in /usr/local/lib/python3.7/dist-packages (from datasets<2.0.0,>=1.18.3->huggingsound==0.1.5) (1.3.5)\n",
            "Collecting huggingface-hub<1.0.0,>=0.1.0\n",
            "  Downloading huggingface_hub-0.10.1-py3-none-any.whl (163 kB)\n",
            "\u001b[K     |████████████████████████████████| 163 kB 71.5 MB/s \n",
            "\u001b[?25hCollecting responses<0.19\n",
            "  Downloading responses-0.18.0-py3-none-any.whl (38 kB)\n",
            "Collecting xxhash\n",
            "  Downloading xxhash-3.1.0-cp37-cp37m-manylinux_2_17_x86_64.manylinux2014_x86_64.whl (212 kB)\n",
            "\u001b[K     |████████████████████████████████| 212 kB 63.7 MB/s \n",
            "\u001b[?25hCollecting multiprocess\n",
            "  Downloading multiprocess-0.70.13-py37-none-any.whl (115 kB)\n",
            "\u001b[K     |████████████████████████████████| 115 kB 69.7 MB/s \n",
            "\u001b[?25hRequirement already satisfied: packaging in /usr/local/lib/python3.7/dist-packages (from datasets<2.0.0,>=1.18.3->huggingsound==0.1.5) (21.3)\n",
            "Requirement already satisfied: aiohttp in /usr/local/lib/python3.7/dist-packages (from datasets<2.0.0,>=1.18.3->huggingsound==0.1.5) (3.8.3)\n",
            "Requirement already satisfied: numpy>=1.17 in /usr/local/lib/python3.7/dist-packages (from datasets<2.0.0,>=1.18.3->huggingsound==0.1.5) (1.21.6)\n",
            "Requirement already satisfied: dill in /usr/local/lib/python3.7/dist-packages (from datasets<2.0.0,>=1.18.3->huggingsound==0.1.5) (0.3.5.1)\n",
            "Requirement already satisfied: requests>=2.19.0 in /usr/local/lib/python3.7/dist-packages (from datasets<2.0.0,>=1.18.3->huggingsound==0.1.5) (2.23.0)\n",
            "Requirement already satisfied: tqdm>=4.62.1 in /usr/local/lib/python3.7/dist-packages (from datasets<2.0.0,>=1.18.3->huggingsound==0.1.5) (4.64.1)\n",
            "Requirement already satisfied: pyarrow!=4.0.0,>=3.0.0 in /usr/local/lib/python3.7/dist-packages (from datasets<2.0.0,>=1.18.3->huggingsound==0.1.5) (6.0.1)\n",
            "Requirement already satisfied: fsspec[http]>=2021.05.0 in /usr/local/lib/python3.7/dist-packages (from datasets<2.0.0,>=1.18.3->huggingsound==0.1.5) (2022.8.2)\n",
            "Requirement already satisfied: importlib-metadata in /usr/local/lib/python3.7/dist-packages (from datasets<2.0.0,>=1.18.3->huggingsound==0.1.5) (4.13.0)\n",
            "Requirement already satisfied: typing-extensions>=3.7.4 in /usr/local/lib/python3.7/dist-packages (from aiohttp->datasets<2.0.0,>=1.18.3->huggingsound==0.1.5) (4.1.1)\n",
            "Requirement already satisfied: attrs>=17.3.0 in /usr/local/lib/python3.7/dist-packages (from aiohttp->datasets<2.0.0,>=1.18.3->huggingsound==0.1.5) (22.1.0)\n",
            "Requirement already satisfied: multidict<7.0,>=4.5 in /usr/local/lib/python3.7/dist-packages (from aiohttp->datasets<2.0.0,>=1.18.3->huggingsound==0.1.5) (6.0.2)\n",
            "Requirement already satisfied: yarl<2.0,>=1.0 in /usr/local/lib/python3.7/dist-packages (from aiohttp->datasets<2.0.0,>=1.18.3->huggingsound==0.1.5) (1.8.1)\n",
            "Requirement already satisfied: aiosignal>=1.1.2 in /usr/local/lib/python3.7/dist-packages (from aiohttp->datasets<2.0.0,>=1.18.3->huggingsound==0.1.5) (1.2.0)\n",
            "Requirement already satisfied: async-timeout<5.0,>=4.0.0a3 in /usr/local/lib/python3.7/dist-packages (from aiohttp->datasets<2.0.0,>=1.18.3->huggingsound==0.1.5) (4.0.2)\n",
            "Requirement already satisfied: frozenlist>=1.1.1 in /usr/local/lib/python3.7/dist-packages (from aiohttp->datasets<2.0.0,>=1.18.3->huggingsound==0.1.5) (1.3.1)\n",
            "Requirement already satisfied: charset-normalizer<3.0,>=2.0 in /usr/local/lib/python3.7/dist-packages (from aiohttp->datasets<2.0.0,>=1.18.3->huggingsound==0.1.5) (2.1.1)\n",
            "Requirement already satisfied: asynctest==0.13.0 in /usr/local/lib/python3.7/dist-packages (from aiohttp->datasets<2.0.0,>=1.18.3->huggingsound==0.1.5) (0.13.0)\n",
            "Requirement already satisfied: pyyaml>=5.1 in /usr/local/lib/python3.7/dist-packages (from huggingface-hub<1.0.0,>=0.1.0->datasets<2.0.0,>=1.18.3->huggingsound==0.1.5) (6.0)\n",
            "Requirement already satisfied: filelock in /usr/local/lib/python3.7/dist-packages (from huggingface-hub<1.0.0,>=0.1.0->datasets<2.0.0,>=1.18.3->huggingsound==0.1.5) (3.8.0)\n",
            "Collecting levenshtein==0.20.2\n",
            "  Downloading Levenshtein-0.20.2-cp37-cp37m-manylinux_2_17_x86_64.manylinux2014_x86_64.whl (1.4 MB)\n",
            "\u001b[K     |████████████████████████████████| 1.4 MB 57.5 MB/s \n",
            "\u001b[?25hCollecting rapidfuzz<3.0.0,>=2.3.0\n",
            "  Downloading rapidfuzz-2.11.1-cp37-cp37m-manylinux_2_17_x86_64.manylinux2014_x86_64.whl (2.2 MB)\n",
            "\u001b[K     |████████████████████████████████| 2.2 MB 36.9 MB/s \n",
            "\u001b[?25hRequirement already satisfied: joblib>=0.14 in /usr/local/lib/python3.7/dist-packages (from librosa<0.9.0,>=0.8.1->huggingsound==0.1.5) (1.2.0)\n",
            "Requirement already satisfied: audioread>=2.0.0 in /usr/local/lib/python3.7/dist-packages (from librosa<0.9.0,>=0.8.1->huggingsound==0.1.5) (3.0.0)\n",
            "Requirement already satisfied: pooch>=1.0 in /usr/local/lib/python3.7/dist-packages (from librosa<0.9.0,>=0.8.1->huggingsound==0.1.5) (1.6.0)\n",
            "Requirement already satisfied: scikit-learn!=0.19.0,>=0.14.0 in /usr/local/lib/python3.7/dist-packages (from librosa<0.9.0,>=0.8.1->huggingsound==0.1.5) (1.0.2)\n",
            "Requirement already satisfied: resampy>=0.2.2 in /usr/local/lib/python3.7/dist-packages (from librosa<0.9.0,>=0.8.1->huggingsound==0.1.5) (0.4.2)\n",
            "Requirement already satisfied: scipy>=1.0.0 in /usr/local/lib/python3.7/dist-packages (from librosa<0.9.0,>=0.8.1->huggingsound==0.1.5) (1.7.3)\n",
            "Requirement already satisfied: decorator>=3.0.0 in /usr/local/lib/python3.7/dist-packages (from librosa<0.9.0,>=0.8.1->huggingsound==0.1.5) (4.4.2)\n",
            "Requirement already satisfied: soundfile>=0.10.2 in /usr/local/lib/python3.7/dist-packages (from librosa<0.9.0,>=0.8.1->huggingsound==0.1.5) (0.11.0)\n",
            "Requirement already satisfied: setuptools in /usr/local/lib/python3.7/dist-packages (from numba<0.54.0,>=0.53.1->huggingsound==0.1.5) (57.4.0)\n",
            "Requirement already satisfied: pyparsing!=3.0.5,>=2.0.2 in /usr/local/lib/python3.7/dist-packages (from packaging->datasets<2.0.0,>=1.18.3->huggingsound==0.1.5) (3.0.9)\n",
            "Requirement already satisfied: appdirs>=1.3.0 in /usr/local/lib/python3.7/dist-packages (from pooch>=1.0->librosa<0.9.0,>=0.8.1->huggingsound==0.1.5) (1.4.4)\n",
            "Requirement already satisfied: urllib3!=1.25.0,!=1.25.1,<1.26,>=1.21.1 in /usr/local/lib/python3.7/dist-packages (from requests>=2.19.0->datasets<2.0.0,>=1.18.3->huggingsound==0.1.5) (1.24.3)\n",
            "Requirement already satisfied: certifi>=2017.4.17 in /usr/local/lib/python3.7/dist-packages (from requests>=2.19.0->datasets<2.0.0,>=1.18.3->huggingsound==0.1.5) (2022.9.24)\n",
            "Requirement already satisfied: idna<3,>=2.5 in /usr/local/lib/python3.7/dist-packages (from requests>=2.19.0->datasets<2.0.0,>=1.18.3->huggingsound==0.1.5) (2.10)\n",
            "Requirement already satisfied: chardet<4,>=3.0.2 in /usr/local/lib/python3.7/dist-packages (from requests>=2.19.0->datasets<2.0.0,>=1.18.3->huggingsound==0.1.5) (3.0.4)\n",
            "Collecting urllib3!=1.25.0,!=1.25.1,<1.26,>=1.21.1\n",
            "  Downloading urllib3-1.25.11-py2.py3-none-any.whl (127 kB)\n",
            "\u001b[K     |████████████████████████████████| 127 kB 68.9 MB/s \n",
            "\u001b[?25hRequirement already satisfied: threadpoolctl>=2.0.0 in /usr/local/lib/python3.7/dist-packages (from scikit-learn!=0.19.0,>=0.14.0->librosa<0.9.0,>=0.8.1->huggingsound==0.1.5) (3.1.0)\n",
            "Requirement already satisfied: cffi>=1.0 in /usr/local/lib/python3.7/dist-packages (from soundfile>=0.10.2->librosa<0.9.0,>=0.8.1->huggingsound==0.1.5) (1.15.1)\n",
            "Requirement already satisfied: pycparser in /usr/local/lib/python3.7/dist-packages (from cffi>=1.0->soundfile>=0.10.2->librosa<0.9.0,>=0.8.1->huggingsound==0.1.5) (2.21)\n",
            "Collecting tokenizers!=0.11.3,<0.14,>=0.11.1\n",
            "  Downloading tokenizers-0.13.1-cp37-cp37m-manylinux_2_17_x86_64.manylinux2014_x86_64.whl (7.6 MB)\n",
            "\u001b[K     |████████████████████████████████| 7.6 MB 54.6 MB/s \n",
            "\u001b[?25hRequirement already satisfied: regex!=2019.12.17 in /usr/local/lib/python3.7/dist-packages (from transformers<5.0.0,>=4.16.2->huggingsound==0.1.5) (2022.6.2)\n",
            "Requirement already satisfied: zipp>=0.5 in /usr/local/lib/python3.7/dist-packages (from importlib-metadata->datasets<2.0.0,>=1.18.3->huggingsound==0.1.5) (3.9.0)\n",
            "Requirement already satisfied: python-dateutil>=2.7.3 in /usr/local/lib/python3.7/dist-packages (from pandas->datasets<2.0.0,>=1.18.3->huggingsound==0.1.5) (2.8.2)\n",
            "Requirement already satisfied: pytz>=2017.3 in /usr/local/lib/python3.7/dist-packages (from pandas->datasets<2.0.0,>=1.18.3->huggingsound==0.1.5) (2022.4)\n",
            "Requirement already satisfied: six>=1.5 in /usr/local/lib/python3.7/dist-packages (from python-dateutil>=2.7.3->pandas->datasets<2.0.0,>=1.18.3->huggingsound==0.1.5) (1.15.0)\n",
            "Installing collected packages: urllib3, llvmlite, rapidfuzz, numba, xxhash, tokenizers, responses, multiprocess, levenshtein, huggingface-hub, transformers, jiwer, datasets, huggingsound\n",
            "  Attempting uninstall: urllib3\n",
            "    Found existing installation: urllib3 1.24.3\n",
            "    Uninstalling urllib3-1.24.3:\n",
            "      Successfully uninstalled urllib3-1.24.3\n",
            "  Attempting uninstall: llvmlite\n",
            "    Found existing installation: llvmlite 0.39.1\n",
            "    Uninstalling llvmlite-0.39.1:\n",
            "      Successfully uninstalled llvmlite-0.39.1\n",
            "  Attempting uninstall: numba\n",
            "    Found existing installation: numba 0.56.3\n",
            "    Uninstalling numba-0.56.3:\n",
            "      Successfully uninstalled numba-0.56.3\n",
            "Successfully installed datasets-1.18.4 huggingface-hub-0.10.1 huggingsound-0.1.5 jiwer-2.5.1 levenshtein-0.20.2 llvmlite-0.36.0 multiprocess-0.70.13 numba-0.53.1 rapidfuzz-2.11.1 responses-0.18.0 tokenizers-0.13.1 transformers-4.23.1 urllib3-1.25.11 xxhash-3.1.0\n",
            "Looking in indexes: https://pypi.org/simple, https://us-python.pkg.dev/colab-wheels/public/simple/\n",
            "Requirement already satisfied: librosa==0.8.1 in /usr/local/lib/python3.7/dist-packages (0.8.1)\n",
            "Requirement already satisfied: audioread>=2.0.0 in /usr/local/lib/python3.7/dist-packages (from librosa==0.8.1) (3.0.0)\n",
            "Requirement already satisfied: resampy>=0.2.2 in /usr/local/lib/python3.7/dist-packages (from librosa==0.8.1) (0.4.2)\n",
            "Requirement already satisfied: numpy>=1.15.0 in /usr/local/lib/python3.7/dist-packages (from librosa==0.8.1) (1.21.6)\n",
            "Requirement already satisfied: numba>=0.43.0 in /usr/local/lib/python3.7/dist-packages (from librosa==0.8.1) (0.53.1)\n",
            "Requirement already satisfied: decorator>=3.0.0 in /usr/local/lib/python3.7/dist-packages (from librosa==0.8.1) (4.4.2)\n",
            "Requirement already satisfied: joblib>=0.14 in /usr/local/lib/python3.7/dist-packages (from librosa==0.8.1) (1.2.0)\n",
            "Requirement already satisfied: packaging>=20.0 in /usr/local/lib/python3.7/dist-packages (from librosa==0.8.1) (21.3)\n",
            "Requirement already satisfied: soundfile>=0.10.2 in /usr/local/lib/python3.7/dist-packages (from librosa==0.8.1) (0.11.0)\n",
            "Requirement already satisfied: scipy>=1.0.0 in /usr/local/lib/python3.7/dist-packages (from librosa==0.8.1) (1.7.3)\n",
            "Requirement already satisfied: scikit-learn!=0.19.0,>=0.14.0 in /usr/local/lib/python3.7/dist-packages (from librosa==0.8.1) (1.0.2)\n",
            "Requirement already satisfied: pooch>=1.0 in /usr/local/lib/python3.7/dist-packages (from librosa==0.8.1) (1.6.0)\n",
            "Requirement already satisfied: llvmlite<0.37,>=0.36.0rc1 in /usr/local/lib/python3.7/dist-packages (from numba>=0.43.0->librosa==0.8.1) (0.36.0)\n",
            "Requirement already satisfied: setuptools in /usr/local/lib/python3.7/dist-packages (from numba>=0.43.0->librosa==0.8.1) (57.4.0)\n",
            "Requirement already satisfied: pyparsing!=3.0.5,>=2.0.2 in /usr/local/lib/python3.7/dist-packages (from packaging>=20.0->librosa==0.8.1) (3.0.9)\n",
            "Requirement already satisfied: requests>=2.19.0 in /usr/local/lib/python3.7/dist-packages (from pooch>=1.0->librosa==0.8.1) (2.23.0)\n",
            "Requirement already satisfied: appdirs>=1.3.0 in /usr/local/lib/python3.7/dist-packages (from pooch>=1.0->librosa==0.8.1) (1.4.4)\n",
            "Requirement already satisfied: urllib3!=1.25.0,!=1.25.1,<1.26,>=1.21.1 in /usr/local/lib/python3.7/dist-packages (from requests>=2.19.0->pooch>=1.0->librosa==0.8.1) (1.25.11)\n",
            "Requirement already satisfied: certifi>=2017.4.17 in /usr/local/lib/python3.7/dist-packages (from requests>=2.19.0->pooch>=1.0->librosa==0.8.1) (2022.9.24)\n",
            "Requirement already satisfied: idna<3,>=2.5 in /usr/local/lib/python3.7/dist-packages (from requests>=2.19.0->pooch>=1.0->librosa==0.8.1) (2.10)\n",
            "Requirement already satisfied: chardet<4,>=3.0.2 in /usr/local/lib/python3.7/dist-packages (from requests>=2.19.0->pooch>=1.0->librosa==0.8.1) (3.0.4)\n",
            "Requirement already satisfied: threadpoolctl>=2.0.0 in /usr/local/lib/python3.7/dist-packages (from scikit-learn!=0.19.0,>=0.14.0->librosa==0.8.1) (3.1.0)\n",
            "Requirement already satisfied: cffi>=1.0 in /usr/local/lib/python3.7/dist-packages (from soundfile>=0.10.2->librosa==0.8.1) (1.15.1)\n",
            "Requirement already satisfied: pycparser in /usr/local/lib/python3.7/dist-packages (from cffi>=1.0->soundfile>=0.10.2->librosa==0.8.1) (2.21)\n",
            "Looking in indexes: https://pypi.org/simple, https://us-python.pkg.dev/colab-wheels/public/simple/\n",
            "Collecting pysoundfile==0.9.0\n",
            "  Downloading PySoundFile-0.9.0-py2.py3-none-any.whl (24 kB)\n",
            "Requirement already satisfied: cffi>=0.6 in /usr/local/lib/python3.7/dist-packages (from pysoundfile==0.9.0) (1.15.1)\n",
            "Requirement already satisfied: pycparser in /usr/local/lib/python3.7/dist-packages (from cffi>=0.6->pysoundfile==0.9.0) (2.21)\n",
            "Installing collected packages: pysoundfile\n",
            "Successfully installed pysoundfile-0.9.0\n",
            "Looking in indexes: https://pypi.org/simple, https://us-python.pkg.dev/colab-wheels/public/simple/\n",
            "Requirement already satisfied: moviepy in /usr/local/lib/python3.7/dist-packages (0.2.3.5)\n",
            "Requirement already satisfied: imageio<3.0,>=2.1.2 in /usr/local/lib/python3.7/dist-packages (from moviepy) (2.9.0)\n",
            "Requirement already satisfied: numpy in /usr/local/lib/python3.7/dist-packages (from moviepy) (1.21.6)\n",
            "Requirement already satisfied: decorator<5.0,>=4.0.2 in /usr/local/lib/python3.7/dist-packages (from moviepy) (4.4.2)\n",
            "Requirement already satisfied: tqdm<5.0,>=4.11.2 in /usr/local/lib/python3.7/dist-packages (from moviepy) (4.64.1)\n",
            "Requirement already satisfied: pillow in /usr/local/lib/python3.7/dist-packages (from imageio<3.0,>=2.1.2->moviepy) (7.1.2)\n",
            "Looking in indexes: https://pypi.org/simple, https://us-python.pkg.dev/colab-wheels/public/simple/\n",
            "Collecting imageio==2.4.1\n",
            "  Downloading imageio-2.4.1.tar.gz (3.3 MB)\n",
            "\u001b[K     |████████████████████████████████| 3.3 MB 6.9 MB/s \n",
            "\u001b[?25hRequirement already satisfied: numpy in /usr/local/lib/python3.7/dist-packages (from imageio==2.4.1) (1.21.6)\n",
            "Requirement already satisfied: pillow in /usr/local/lib/python3.7/dist-packages (from imageio==2.4.1) (7.1.2)\n",
            "Building wheels for collected packages: imageio\n",
            "  Building wheel for imageio (setup.py) ... \u001b[?25l\u001b[?25hdone\n",
            "  Created wheel for imageio: filename=imageio-2.4.1-py3-none-any.whl size=3303885 sha256=84f0b01a3e3169f894cb5d4d22620078f50724e2e33c0a4db0a2825073966cd2\n",
            "  Stored in directory: /root/.cache/pip/wheels/46/20/07/7bb9c8c44e6ec2efa60fd0e6280094f53f65f41767ef69a5ee\n",
            "Successfully built imageio\n",
            "Installing collected packages: imageio\n",
            "  Attempting uninstall: imageio\n",
            "    Found existing installation: imageio 2.9.0\n",
            "    Uninstalling imageio-2.9.0:\n",
            "      Successfully uninstalled imageio-2.9.0\n",
            "Successfully installed imageio-2.4.1\n",
            "Looking in indexes: https://pypi.org/simple, https://us-python.pkg.dev/colab-wheels/public/simple/\n",
            "Collecting pyspellchecker\n",
            "  Downloading pyspellchecker-0.7.0-py3-none-any.whl (2.5 MB)\n",
            "\u001b[K     |████████████████████████████████| 2.5 MB 7.4 MB/s \n",
            "\u001b[?25hInstalling collected packages: pyspellchecker\n",
            "Successfully installed pyspellchecker-0.7.0\n"
          ]
        }
      ],
      "source": [
        "# install dependencies\n",
        "!python -m pip install huggingsound==0.1.5\n",
        "!python -m pip install librosa==0.8.1\n",
        "!python -m pip install pysoundfile==0.9.0\n",
        "!python -m pip install moviepy\n",
        "!python -m pip install imageio==2.4.1\n",
        "!python -m pip install pyspellchecker==0.7.0"
      ]
    },
    {
      "cell_type": "code",
      "execution_count": null,
      "metadata": {
        "colab": {
          "base_uri": "https://localhost:8080/"
        },
        "id": "mlxSEx3EV1nZ",
        "outputId": "5b520c50-78b3-4a0a-ffaf-d8566b8c429e"
      },
      "outputs": [
        {
          "name": "stdout",
          "output_type": "stream",
          "text": [
            "Imageio: 'ffmpeg-linux64-v3.3.1' was not found on your computer; downloading it now.\n",
            "Try 1. Download from https://github.com/imageio/imageio-binaries/raw/master/ffmpeg/ffmpeg-linux64-v3.3.1 (43.8 MB)\n",
            "Downloading: 8192/45929032 bytes (0.0%)\b\b\b\b\b\b\b\b\b\b\b\b\b\b\b\b\b\b\b\b\b\b\b\b\b\b4210688/45929032 bytes (9.2%)\b\b\b\b\b\b\b\b\b\b\b\b\b\b\b\b\b\b\b\b\b\b\b\b\b\b\b\b\b8601600/45929032 bytes (18.7%)\b\b\b\b\b\b\b\b\b\b\b\b\b\b\b\b\b\b\b\b\b\b\b\b\b\b\b\b\b\b12795904/45929032 bytes (27.9%)\b\b\b\b\b\b\b\b\b\b\b\b\b\b\b\b\b\b\b\b\b\b\b\b\b\b\b\b\b\b\b17186816/45929032 bytes (37.4%)\b\b\b\b\b\b\b\b\b\b\b\b\b\b\b\b\b\b\b\b\b\b\b\b\b\b\b\b\b\b\b21364736/45929032 bytes (46.5%)\b\b\b\b\b\b\b\b\b\b\b\b\b\b\b\b\b\b\b\b\b\b\b\b\b\b\b\b\b\b\b25608192/45929032 bytes (55.8%)\b\b\b\b\b\b\b\b\b\b\b\b\b\b\b\b\b\b\b\b\b\b\b\b\b\b\b\b\b\b\b30023680/45929032 bytes (65.4%)\b\b\b\b\b\b\b\b\b\b\b\b\b\b\b\b\b\b\b\b\b\b\b\b\b\b\b\b\b\b\b34447360/45929032 bytes (75.0%)\b\b\b\b\b\b\b\b\b\b\b\b\b\b\b\b\b\b\b\b\b\b\b\b\b\b\b\b\b\b\b38764544/45929032 bytes (84.4%)\b\b\b\b\b\b\b\b\b\b\b\b\b\b\b\b\b\b\b\b\b\b\b\b\b\b\b\b\b\b\b42950656/45929032 bytes (93.5%)\b\b\b\b\b\b\b\b\b\b\b\b\b\b\b\b\b\b\b\b\b\b\b\b\b\b\b\b\b\b\b45929032/45929032 bytes (100.0%)\n",
            "  Done\n",
            "File saved as /root/.imageio/ffmpeg/ffmpeg-linux64-v3.3.1.\n",
            "Traceback (most recent call last):\n",
            "  File \"./TranscribeAudioForSubtitles/translator.py\", line 27, in <module>\n",
            "    from spellchecker import SpellChecker\n",
            "ModuleNotFoundError: No module named 'spellchecker'\n",
            "cat: ./TranscribeAudioForSubtitles/input/EN_pale_blue_dot_example_subtitle.srt: No such file or directory\n"
          ]
        }
      ],
      "source": [
        "# TIP: select runtime --> change runtime --> GPU    for much (10x) faster transcription\n",
        "\n",
        "# Predict an example\n",
        "!python ./TranscribeAudioForSubtitles/translator.py --Input \"./TranscribeAudioForSubtitles/input/EN_pale_blue_dot_example.wav\" --Language \"EN\" \n",
        "# show the example output\n",
        "!cat \"./TranscribeAudioForSubtitles/input/EN_pale_blue_dot_example_subtitle.srt\""
      ]
    },
    {
      "cell_type": "code",
      "execution_count": null,
      "metadata": {
        "colab": {
          "base_uri": "https://localhost:8080/"
        },
        "id": "0tI-zMXePWAe",
        "outputId": "f121debc-ddd3-4ffa-b148-9c2134daaa25"
      },
      "outputs": [
        {
          "output_type": "stream",
          "name": "stdout",
          "text": [
            "The cache for model files in Transformers v4.22.0 has been updated. Migrating your old cache. This is a one-time only operation. You can interrupt this and resume the migration later on by calling `transformers.utils.move_cache()`.\n",
            "Moving 0 files to the new cache system\n",
            "0it [00:00, ?it/s]\n",
            "[WARNING]: Specified path is a folder, will create output files for each folder\n",
            "[INFO]: Creating subtitles for file TranscribeAudioForSubtitles/input/Аватар_ Легенда об Аанге_S2_E9_360.mp4\n",
            "\t[INFO]: Converting input audio to .wav...\n",
            "100% 32519/32519 [00:13<00:00, 2483.88it/s]\n",
            "\t[INFO]: Loading .wav and converting to sample rate 16000 kHz ...\n",
            "\t[INFO]: Splitting input audio into max 10s fragments to prevent memory overload...\n",
            "\t[INFO]: Loading model...\n",
            "\t[INFO]: Starting transcription...\n",
            "100% 186/186 [00:22<00:00,  8.13it/s]\n",
            "\t[INFO]: Converting transcriptions into a subtitle file...\n",
            "\t\t[INFO]: Autocorrecting words for spelling mistakes...\n",
            "\t[INFO] done.\n",
            "[INFO]: Creating subtitles for file TranscribeAudioForSubtitles/input/Аватар_ Легенда об Аанге_S2_E8_360.mp4\n",
            "\t[INFO]: Converting input audio to .wav...\n",
            "100% 32559/32559 [00:12<00:00, 2511.43it/s]\n",
            "\t[INFO]: Loading .wav and converting to sample rate 16000 kHz ...\n",
            "\t[INFO]: Splitting input audio into max 10s fragments to prevent memory overload...\n",
            "\t[INFO]: Loading model...\n",
            "\t[INFO]: Starting transcription...\n",
            "100% 186/186 [00:23<00:00,  7.94it/s]\n",
            "\t[INFO]: Converting transcriptions into a subtitle file...\n",
            "\t\t[INFO]: Autocorrecting words for spelling mistakes...\n",
            "\t[INFO] done.\n",
            "[INFO]: Creating subtitles for file TranscribeAudioForSubtitles/input/Аватар_ Легенда об Аанге_S2_E6_720.mp4\n",
            "\t[INFO]: Converting input audio to .wav...\n",
            "100% 32456/32456 [00:13<00:00, 2473.15it/s]\n",
            "\t[INFO]: Loading .wav and converting to sample rate 16000 kHz ...\n",
            "\t[INFO]: Splitting input audio into max 10s fragments to prevent memory overload...\n",
            "\t[INFO]: Loading model...\n",
            "\t[INFO]: Starting transcription...\n",
            "100% 183/183 [00:24<00:00,  7.57it/s]\n",
            "\t[INFO]: Converting transcriptions into a subtitle file...\n",
            "\t\t[INFO]: Autocorrecting words for spelling mistakes...\n",
            "\t[INFO] done.\n",
            "[INFO]: Creating subtitles for file TranscribeAudioForSubtitles/input/Аватар_ Легенда об Аанге_S2_E10_360.mp4\n",
            "\t[INFO]: Converting input audio to .wav...\n",
            "100% 32496/32496 [00:12<00:00, 2571.25it/s]\n",
            "\t[INFO]: Loading .wav and converting to sample rate 16000 kHz ...\n",
            "\t[INFO]: Splitting input audio into max 10s fragments to prevent memory overload...\n",
            "\t[INFO]: Loading model...\n",
            "\t[INFO]: Starting transcription...\n",
            "100% 187/187 [00:24<00:00,  7.52it/s]\n",
            "\t[INFO]: Converting transcriptions into a subtitle file...\n",
            "\t\t[INFO]: Autocorrecting words for spelling mistakes...\n",
            "\t[INFO] done.\n",
            "[INFO]: Creating subtitles for file TranscribeAudioForSubtitles/input/Аватар_ Легенда об Аанге_S2_E7_720.mp4\n",
            "\t[INFO]: Converting input audio to .wav...\n",
            "100% 32474/32474 [00:12<00:00, 2521.30it/s]\n",
            "\t[INFO]: Loading .wav and converting to sample rate 16000 kHz ...\n",
            "\t[INFO]: Splitting input audio into max 10s fragments to prevent memory overload...\n",
            "\t[INFO]: Loading model...\n",
            "\t[INFO]: Starting transcription...\n",
            "100% 187/187 [00:24<00:00,  7.52it/s]\n",
            "\t[INFO]: Converting transcriptions into a subtitle file...\n",
            "\t\t[INFO]: Autocorrecting words for spelling mistakes...\n",
            "\t[INFO] done.\n"
          ]
        }
      ],
      "source": [
        "# Predict the real thing\n",
        "# upload your audio files somewhere in the colab folder (you can see it when you click the folder Icon on the top left of this screen)\n",
        "# REPLACE: <YOUR FILE PATH> with the path to your uploaded files or folder with the files\n",
        "# REPLACE \"<YOUR_LANGUAGE>\" with the two letter language code of the spoken audio (FR=French, EN=English, IT=Italian, etc ...)\n",
        "!python ./TranscribeAudioForSubtitles/translator.py --Input \"./TranscribeAudioForSubtitles/input/\" --Language \"RU\" --Autocorrect True\n",
        "\n",
        "# The output .srt caption files will be in the same directory as your input files.\n",
        "# specify --Ou"
      ]
    },
    {
      "cell_type": "code",
      "execution_count": null,
      "metadata": {
        "id": "bpXitPWGLZTz",
        "colab": {
          "base_uri": "https://localhost:8080/"
        },
        "outputId": "f22a3032-5533-4f3e-c929-11e1d0bee21d"
      },
      "outputs": [
        {
          "output_type": "stream",
          "name": "stdout",
          "text": [
            "sample_data  TranscribeAudioForSubtitles\n"
          ]
        }
      ],
      "source": [
        "!ls"
      ]
    }
  ],
  "metadata": {
    "accelerator": "GPU",
    "colab": {
      "collapsed_sections": [],
      "provenance": []
    },
    "kernelspec": {
      "display_name": "Python 3",
      "name": "python3"
    },
    "language_info": {
      "name": "python"
    }
  },
  "nbformat": 4,
  "nbformat_minor": 0
}