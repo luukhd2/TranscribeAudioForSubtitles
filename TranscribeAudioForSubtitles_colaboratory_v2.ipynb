{
  "cells": [
    {
      "cell_type": "code",
      "execution_count": 1,
      "metadata": {
        "colab": {
          "base_uri": "https://localhost:8080/"
        },
        "id": "AscG_f9WUljC",
        "outputId": "1a298b56-679b-40ff-bd91-9c2ff9f12f0f"
      },
      "outputs": [
        {
          "output_type": "stream",
          "name": "stdout",
          "text": [
            "Cloning into 'TranscribeAudioForSubtitles'...\n",
            "remote: Enumerating objects: 158, done.\u001b[K\n",
            "remote: Counting objects: 100% (143/143), done.\u001b[K\n",
            "remote: Compressing objects: 100% (103/103), done.\u001b[K\n",
            "remote: Total 158 (delta 76), reused 78 (delta 37), pack-reused 15\u001b[K\n",
            "Receiving objects: 100% (158/158), 60.94 MiB | 32.05 MiB/s, done.\n",
            "Resolving deltas: 100% (76/76), done.\n",
            "/content/TranscribeAudioForSubtitles\n"
          ]
        }
      ],
      "source": [
        "# get the code\n",
        "!git clone https://github.com/luukhd2/TranscribeAudioForSubtitles/\n",
        "# cd into the downloaded git directory\n",
        "%cd /content/TranscribeAudioForSubtitles"
      ]
    },
    {
      "cell_type": "code",
      "execution_count": null,
      "metadata": {
        "collapsed": true,
        "id": "q1BToV_WU8lc"
      },
      "outputs": [],
      "source": [
        "# install dependencies\n",
        "!python -m pip install huggingsound==0.1.5\n",
        "!python -m pip install librosa==0.8.1\n",
        "!python -m pip install pysoundfile==0.9.0\n",
        "!python -m pip install moviepy\n",
        "!python -m pip install imageio==2.4.1\n",
        "!python -m pip install pyspellchecker==0.7.0"
      ]
    },
    {
      "cell_type": "code",
      "execution_count": 4,
      "metadata": {
        "colab": {
          "base_uri": "https://localhost:8080/"
        },
        "id": "mlxSEx3EV1nZ",
        "outputId": "8c950b82-e63e-42a5-c93d-f22068a38b56"
      },
      "outputs": [
        {
          "output_type": "stream",
          "name": "stdout",
          "text": [
            "Imageio: 'ffmpeg-linux64-v3.3.1' was not found on your computer; downloading it now.\n",
            "Try 1. Download from https://github.com/imageio/imageio-binaries/raw/master/ffmpeg/ffmpeg-linux64-v3.3.1 (43.8 MB)\n",
            "Downloading: 8192/45929032 bytes (0.0%)\b\b\b\b\b\b\b\b\b\b\b\b\b\b\b\b\b\b\b\b\b\b\b\b\b\b4341760/45929032 bytes (9.5%)\b\b\b\b\b\b\b\b\b\b\b\b\b\b\b\b\b\b\b\b\b\b\b\b\b\b\b\b\b8749056/45929032 bytes (19.0%)\b\b\b\b\b\b\b\b\b\b\b\b\b\b\b\b\b\b\b\b\b\b\b\b\b\b\b\b\b\b13058048/45929032 bytes (28.4%)\b\b\b\b\b\b\b\b\b\b\b\b\b\b\b\b\b\b\b\b\b\b\b\b\b\b\b\b\b\b\b17383424/45929032 bytes (37.8%)\b\b\b\b\b\b\b\b\b\b\b\b\b\b\b\b\b\b\b\b\b\b\b\b\b\b\b\b\b\b\b21659648/45929032 bytes (47.2%)\b\b\b\b\b\b\b\b\b\b\b\b\b\b\b\b\b\b\b\b\b\b\b\b\b\b\b\b\b\b\b25927680/45929032 bytes (56.5%)\b\b\b\b\b\b\b\b\b\b\b\b\b\b\b\b\b\b\b\b\b\b\b\b\b\b\b\b\b\b\b30269440/45929032 bytes (65.9%)\b\b\b\b\b\b\b\b\b\b\b\b\b\b\b\b\b\b\b\b\b\b\b\b\b\b\b\b\b\b\b34406400/45929032 bytes (74.9%)\b\b\b\b\b\b\b\b\b\b\b\b\b\b\b\b\b\b\b\b\b\b\b\b\b\b\b\b\b\b\b38871040/45929032 bytes (84.6%)\b\b\b\b\b\b\b\b\b\b\b\b\b\b\b\b\b\b\b\b\b\b\b\b\b\b\b\b\b\b\b42967040/45929032 bytes (93.6%)\b\b\b\b\b\b\b\b\b\b\b\b\b\b\b\b\b\b\b\b\b\b\b\b\b\b\b\b\b\b\b45929032/45929032 bytes (100.0%)\n",
            "  Done\n",
            "File saved as /root/.imageio/ffmpeg/ffmpeg-linux64-v3.3.1.\n",
            "[INFO]: Creating subtitles for file TranscribeAudioForSubtitles/input/EN_pale_blue_dot_example.wav\n",
            "\t[INFO]: Converting input audio to .wav...\n",
            "100% 267/267 [00:00<00:00, 3256.28it/s]\n",
            "\t[INFO]: Loading .wav and converting to sample rate 16000 kHz ...\n",
            "\t[INFO]: Splitting input audio into max 10s fragments to prevent memory overload...\n",
            "\t[INFO]: Loading model...\n",
            "\t\t[INFO]: The model was not found at the specified path. Downloading and saving...\n",
            "INFO:huggingsound.speech_recognition.model:Loading model...\n",
            "Downloading: 100% 1.53k/1.53k [00:00<00:00, 2.31MB/s]\n",
            "Downloading: 100% 1.26G/1.26G [00:18<00:00, 69.5MB/s]\n",
            "Downloading: 100% 262/262 [00:00<00:00, 275kB/s]\n",
            "Downloading: 100% 300/300 [00:00<00:00, 531kB/s]\n",
            "Downloading: 100% 85.0/85.0 [00:00<00:00, 89.5kB/s]\n",
            "\t[INFO]: Starting transcription...\n",
            "100% 2/2 [00:07<00:00,  3.61s/it]\n",
            "\t[INFO]: Converting transcriptions into a subtitle file...\n",
            "\t[INFO] done.\n",
            "WEBVTT\n",
            "\n",
            "1\n",
            "00:00:00.020 --> 00:00:00.160\n",
            "- S a\n",
            "\n",
            "2\n",
            "00:00:00.200 --> 00:00:03.200\n",
            "- Responsibility to deal more kindly with one another\n",
            "\n",
            "3\n",
            "00:00:04.040 --> 00:00:04.980\n",
            "- And to preserve\n",
            "\n",
            "4\n",
            "00:00:05.680 --> 00:00:07.746\n",
            "- And cheurish the pale blue dot\n",
            "\n",
            "5\n",
            "00:00:08.646 --> 00:00:09.366\n",
            "- The only home\n",
            "\n",
            "6\n",
            "00:00:10.126 --> 00:00:10.746\n",
            "- We've ever known\n",
            "\n"
          ]
        }
      ],
      "source": [
        "# TIP: select runtime --> change runtime --> GPU    for much (10x) faster transcription\n",
        "\n",
        "# Predict an example\n",
        "!python ./TranscribeAudioForSubtitles/transcribe.py --Input \"./TranscribeAudioForSubtitles/input/EN_pale_blue_dot_example.wav\" --Language \"EN\" \n",
        "# show the example output\n",
        "!cat \"./TranscribeAudioForSubtitles/input/EN_pale_blue_dot_example_subtitle.vtt\""
      ]
    }
  ],
  "metadata": {
    "accelerator": "GPU",
    "colab": {
      "collapsed_sections": [],
      "provenance": []
    },
    "kernelspec": {
      "display_name": "Python 3",
      "name": "python3"
    },
    "language_info": {
      "name": "python"
    }
  },
  "nbformat": 4,
  "nbformat_minor": 0
}